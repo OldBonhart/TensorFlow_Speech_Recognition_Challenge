{
  "nbformat": 4,
  "nbformat_minor": 0,
  "metadata": {
    "colab": {
      "name": "demo.ipynb",
      "provenance": []
    },
    "kernelspec": {
      "name": "python3",
      "display_name": "Python 3"
    }
  },
  "cells": [
    {
      "cell_type": "markdown",
      "metadata": {
        "id": "tCC4G53MzXvs",
        "colab_type": "text"
      },
      "source": [
        "# Upload model with pretrained weights"
      ]
    },
    {
      "cell_type": "code",
      "metadata": {
        "id": "hk9ZYZP_c6MD",
        "colab_type": "code",
        "outputId": "40759431-8e64-4ecd-9150-5f69129d4110",
        "colab": {
          "base_uri": "https://localhost:8080/",
          "height": 221
        }
      },
      "source": [
        "!pip install librosa"
      ],
      "execution_count": 0,
      "outputs": [
        {
          "output_type": "stream",
          "text": [
            "Requirement already satisfied: librosa in /usr/local/lib/python3.6/dist-packages (0.6.3)\n",
            "Requirement already satisfied: resampy>=0.2.0 in /usr/local/lib/python3.6/dist-packages (from librosa) (0.2.2)\n",
            "Requirement already satisfied: audioread>=2.0.0 in /usr/local/lib/python3.6/dist-packages (from librosa) (2.1.8)\n",
            "Requirement already satisfied: six>=1.3 in /usr/local/lib/python3.6/dist-packages (from librosa) (1.12.0)\n",
            "Requirement already satisfied: scipy>=1.0.0 in /usr/local/lib/python3.6/dist-packages (from librosa) (1.4.1)\n",
            "Requirement already satisfied: numpy>=1.8.0 in /usr/local/lib/python3.6/dist-packages (from librosa) (1.18.2)\n",
            "Requirement already satisfied: decorator>=3.0.0 in /usr/local/lib/python3.6/dist-packages (from librosa) (4.4.2)\n",
            "Requirement already satisfied: scikit-learn!=0.19.0,>=0.14.0 in /usr/local/lib/python3.6/dist-packages (from librosa) (0.22.2.post1)\n",
            "Requirement already satisfied: joblib>=0.12 in /usr/local/lib/python3.6/dist-packages (from librosa) (0.14.1)\n",
            "Requirement already satisfied: numba>=0.38.0 in /usr/local/lib/python3.6/dist-packages (from librosa) (0.48.0)\n",
            "Requirement already satisfied: llvmlite<0.32.0,>=0.31.0dev0 in /usr/local/lib/python3.6/dist-packages (from numba>=0.38.0->librosa) (0.31.0)\n",
            "Requirement already satisfied: setuptools in /usr/local/lib/python3.6/dist-packages (from numba>=0.38.0->librosa) (46.1.3)\n"
          ],
          "name": "stdout"
        }
      ]
    },
    {
      "cell_type": "code",
      "metadata": {
        "id": "BBUYr2TqdOUX",
        "colab_type": "code",
        "outputId": "1b4b7dfb-7435-4245-c760-622b704767fb",
        "colab": {
          "base_uri": "https://localhost:8080/",
          "height": 207
        }
      },
      "source": [
        "!pip install --upgrade efficientnet-pytorch"
      ],
      "execution_count": 0,
      "outputs": [
        {
          "output_type": "stream",
          "text": [
            "Collecting efficientnet-pytorch\n",
            "  Downloading https://files.pythonhosted.org/packages/b8/cb/0309a6e3d404862ae4bc017f89645cf150ac94c14c88ef81d215c8e52925/efficientnet_pytorch-0.6.3.tar.gz\n",
            "Requirement already satisfied, skipping upgrade: torch in /usr/local/lib/python3.6/dist-packages (from efficientnet-pytorch) (1.4.0)\n",
            "Building wheels for collected packages: efficientnet-pytorch\n",
            "  Building wheel for efficientnet-pytorch (setup.py) ... \u001b[?25l\u001b[?25hdone\n",
            "  Created wheel for efficientnet-pytorch: filename=efficientnet_pytorch-0.6.3-cp36-none-any.whl size=12422 sha256=2a1c6809aca696998629a790be546f049fc1a99cb09d0716db6ffd9b3992eee7\n",
            "  Stored in directory: /root/.cache/pip/wheels/42/1e/a9/2a578ba9ad04e776e80bf0f70d8a7f4c29ec0718b92d8f6ccd\n",
            "Successfully built efficientnet-pytorch\n",
            "Installing collected packages: efficientnet-pytorch\n",
            "Successfully installed efficientnet-pytorch-0.6.3\n"
          ],
          "name": "stdout"
        }
      ]
    },
    {
      "cell_type": "code",
      "metadata": {
        "id": "ROlWbLHXdOZp",
        "colab_type": "code",
        "outputId": "661acc7d-dfd3-41ce-addc-96a04b0f756d",
        "colab": {
          "resources": {
            "http://localhost:8080/nbextensions/google.colab/files.js": {
              "data": "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",
              "ok": true,
              "headers": [
                [
                  "content-type",
                  "application/javascript"
                ]
              ],
              "status": 200,
              "status_text": ""
            }
          },
          "base_uri": "https://localhost:8080/",
          "height": 74
        }
      },
      "source": [
        "from google.colab import files\n",
        "files.upload()"
      ],
      "execution_count": 0,
      "outputs": [
        {
          "output_type": "display_data",
          "data": {
            "text/html": [
              "\n",
              "     <input type=\"file\" id=\"files-5b01fbff-d2df-433e-a50e-18c9cbb5626b\" name=\"files[]\" multiple disabled />\n",
              "     <output id=\"result-5b01fbff-d2df-433e-a50e-18c9cbb5626b\">\n",
              "      Upload widget is only available when the cell has been executed in the\n",
              "      current browser session. Please rerun this cell to enable.\n",
              "      </output>\n",
              "      <script src=\"/nbextensions/google.colab/files.js\"></script> "
            ],
            "text/plain": [
              "<IPython.core.display.HTML object>"
            ]
          },
          "metadata": {
            "tags": []
          }
        },
        {
          "output_type": "stream",
          "text": [
            "Saving model.pt to model.pt\n"
          ],
          "name": "stdout"
        }
      ]
    },
    {
      "cell_type": "code",
      "metadata": {
        "id": "qS3hqTlwc7DF",
        "colab_type": "code",
        "colab": {}
      },
      "source": [
        "import numpy as np\n",
        "from scipy.fftpack import fft\n",
        "from scipy import signal\n",
        "from scipy.io import wavfile\n",
        "import librosa\n",
        "import matplotlib.pyplot as plt\n",
        "\n",
        "from efficientnet_pytorch import EfficientNet\n",
        "import torch\n",
        "from torch.utils.data import Dataset, DataLoader\n",
        "import torchvision\n",
        "from torchvision.transforms import transforms\n",
        "import cv2\n",
        "\n",
        "# from waves to spectrograms\n",
        "def log_specgram(audio, sample_rate, window_size=20,\n",
        "                 step_size=10, eps=1e-10):\n",
        "    nperseg = int(round(window_size * sample_rate / 1e3))\n",
        "    noverlap = int(round(step_size * sample_rate / 1e3))\n",
        "    freqs, times, spec = signal.spectrogram(audio,\n",
        "                                    fs=sample_rate,\n",
        "                                    window='hann',\n",
        "                                    nperseg=nperseg,\n",
        "                                    noverlap=noverlap,\n",
        "                                    detrend=False)\n",
        "    return freqs, times, np.log(spec.T.astype(np.float32) + eps)"
      ],
      "execution_count": 0,
      "outputs": []
    },
    {
      "cell_type": "code",
      "metadata": {
        "id": "AQQ6YuU-c7Hk",
        "colab_type": "code",
        "colab": {}
      },
      "source": [
        "# Device configuration\n",
        "device = torch.device('cuda:0' if torch.cuda.is_available() else 'cpu')\n",
        "\n",
        "model = EfficientNet.from_pretrained('efficientnet-b0', num_classes=11)\n",
        "model = model.to(device)\n",
        "model.load_state_dict(torch.load('model.pt', map_location='cpu'))\n",
        "model.eval()"
      ],
      "execution_count": 0,
      "outputs": []
    },
    {
      "cell_type": "code",
      "metadata": {
        "id": "VwOHcoVgc7MD",
        "colab_type": "code",
        "colab": {}
      },
      "source": [
        ""
      ],
      "execution_count": 0,
      "outputs": []
    },
    {
      "cell_type": "markdown",
      "metadata": {
        "id": "0qnrGAnOdZbu",
        "colab_type": "text"
      },
      "source": [
        "# Record audio"
      ]
    },
    {
      "cell_type": "code",
      "metadata": {
        "id": "l1hQIB6UQubg",
        "colab_type": "code",
        "colab": {}
      },
      "source": [
        "#https://gist.github.com/korakot/c21c3476c024ad6d56d5f48b0bca92be\n",
        "# all imports\n",
        "from IPython.display import Javascript\n",
        "from google.colab import output\n",
        "from base64 import b64decode\n",
        "from io import BytesIO\n",
        "!pip -q install pydub\n",
        "from pydub import AudioSegment\n",
        "import time\n",
        "\n",
        "RECORD = \"\"\"\n",
        "const sleep  = time => new Promise(resolve => setTimeout(resolve, time))\n",
        "const b2text = blob => new Promise(resolve => {\n",
        "  const reader = new FileReader()\n",
        "  reader.onloadend = e => resolve(e.srcElement.result)\n",
        "  reader.readAsDataURL(blob)\n",
        "})\n",
        "var record = time => new Promise(async resolve => {\n",
        "  stream = await navigator.mediaDevices.getUserMedia({ audio: true })\n",
        "  recorder = new MediaRecorder(stream)\n",
        "  chunks = []\n",
        "  recorder.ondataavailable = e => chunks.push(e.data)\n",
        "  recorder.start()\n",
        "  await sleep(time)\n",
        "  recorder.onstop = async ()=>{\n",
        "    blob = new Blob(chunks)\n",
        "    text = await b2text(blob)\n",
        "    resolve(text)\n",
        "  }\n",
        "  recorder.stop()\n",
        "})\n",
        "\"\"\"\n",
        "\n",
        "def record(sec=1, path_to_save= \"/content/\"):\n",
        "  display(Javascript(RECORD))\n",
        "  s = output.eval_js('record(%d)' % (sec*1000))\n",
        "  b = b64decode(s.split(',')[1])\n",
        "  audio = AudioSegment.from_file(BytesIO(b))\n",
        "  fn = str(time.time()) + \".wav\"\n",
        "  audio.export(path_to_save + fn, format=\"wav\")\n",
        "  return fn, audio"
      ],
      "execution_count": 0,
      "outputs": []
    },
    {
      "cell_type": "code",
      "metadata": {
        "id": "mXdr9uTdQw0r",
        "colab_type": "code",
        "outputId": "425ba830-4f29-4653-8046-8c183f6af0b8",
        "colab": {
          "base_uri": "https://localhost:8080/",
          "height": 92
        }
      },
      "source": [
        "filename, play = record()\n",
        "print(filename); play\n"
      ],
      "execution_count": 0,
      "outputs": [
        {
          "output_type": "display_data",
          "data": {
            "application/javascript": [
              "\n",
              "const sleep  = time => new Promise(resolve => setTimeout(resolve, time))\n",
              "const b2text = blob => new Promise(resolve => {\n",
              "  const reader = new FileReader()\n",
              "  reader.onloadend = e => resolve(e.srcElement.result)\n",
              "  reader.readAsDataURL(blob)\n",
              "})\n",
              "var record = time => new Promise(async resolve => {\n",
              "  stream = await navigator.mediaDevices.getUserMedia({ audio: true })\n",
              "  recorder = new MediaRecorder(stream)\n",
              "  chunks = []\n",
              "  recorder.ondataavailable = e => chunks.push(e.data)\n",
              "  recorder.start()\n",
              "  await sleep(time)\n",
              "  recorder.onstop = async ()=>{\n",
              "    blob = new Blob(chunks)\n",
              "    text = await b2text(blob)\n",
              "    resolve(text)\n",
              "  }\n",
              "  recorder.stop()\n",
              "})\n"
            ],
            "text/plain": [
              "<IPython.core.display.Javascript object>"
            ]
          },
          "metadata": {
            "tags": []
          }
        },
        {
          "output_type": "stream",
          "text": [
            "1586970269.0568466.wav\n"
          ],
          "name": "stdout"
        },
        {
          "output_type": "execute_result",
          "data": {
            "text/html": [
              "\n",
              "                    <audio controls>\n",
              "                        <source src=\"data:audio/mpeg;base64,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\" type=\"audio/mpeg\"/>\n",
              "                        Your browser does not support the audio element.\n",
              "                    </audio>\n",
              "                  "
            ],
            "text/plain": [
              "<pydub.audio_segment.AudioSegment at 0x7fdd9b4f54e0>"
            ]
          },
          "metadata": {
            "tags": []
          },
          "execution_count": 132
        }
      ]
    },
    {
      "cell_type": "markdown",
      "metadata": {
        "id": "OmOSciVSdmF9",
        "colab_type": "text"
      },
      "source": [
        "# Prediction"
      ]
    },
    {
      "cell_type": "code",
      "metadata": {
        "id": "zFi-G-y1Qw-e",
        "colab_type": "code",
        "outputId": "12f84d2e-0d77-46c4-aa84-d922746b9b86",
        "colab": {
          "base_uri": "https://localhost:8080/",
          "height": 378
        }
      },
      "source": [
        "# Get prediction\n",
        "labels = [\"go\", \"off\", \"stop\", \"up\", \"no\", \"right\", \"down\", \"left\", \"on\", \"yes\", \"bed\"]\n",
        "\n",
        "path_to_file = \"/content/\" + filename\n",
        "samples, sample_rate = librosa.load(path_to_file, mono=True, sr=None)\n",
        "freqs, times, spectrogram = log_specgram(samples, sample_rate)\n",
        "img = cv2.resize(spectrogram, (256, 256))\n",
        "img_rgb = np.stack((img,)*3, axis=-1).astype(np.float32())\n",
        "plt.imshow(img)\n",
        "\n",
        "aug = transforms.Compose([transforms.ToTensor(),\n",
        "                          transforms.Normalize(mean=[0.485, 0.456, 0.406], std=[0.229, 0.224, 0.225])\n",
        "                             ])\n",
        "\n",
        "new_tensor = aug(img_rgb)\n",
        "\n",
        "\n",
        "output = model(new_tensor.unsqueeze(0).to(device))\n",
        "print(output)\n",
        "_, prediction = torch.max(output.data, 1)\n",
        "print(labels[int(prediction)])\n",
        "play"
      ],
      "execution_count": 0,
      "outputs": [
        {
          "output_type": "stream",
          "text": [
            "tensor([[-6.5697, -1.1030, -3.4726,  3.9975, -5.2163,  2.9905, -5.3554,  0.6309,\n",
            "         -1.7225, -4.9554,  2.8240]], grad_fn=<AddmmBackward>)\n",
            "up\n"
          ],
          "name": "stdout"
        },
        {
          "output_type": "execute_result",
          "data": {
            "text/html": [
              "\n",
              "                    <audio controls>\n",
              "                        <source src=\"data:audio/mpeg;base64,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\" type=\"audio/mpeg\"/>\n",
              "                        Your browser does not support the audio element.\n",
              "                    </audio>\n",
              "                  "
            ],
            "text/plain": [
              "<pydub.audio_segment.AudioSegment at 0x7fdd9b4f54e0>"
            ]
          },
          "metadata": {
            "tags": []
          },
          "execution_count": 133
        },
        {
          "output_type": "display_data",
          "data": {
            "image/png": "[encoded data removed]",
            "text/plain": [
              "<Figure size 432x288 with 1 Axes>"
            ]
          },
          "metadata": {
            "tags": [],
            "needs_background": "light"
          }
        }
      ]
    },
    {
      "cell_type": "code",
      "metadata": {
        "id": "xxu3cORvaN3A",
        "colab_type": "code",
        "colab": {}
      },
      "source": [
        ""
      ],
      "execution_count": 0,
      "outputs": []
    },
    {
      "cell_type": "code",
      "metadata": {
        "id": "JjRBDi-baNvx",
        "colab_type": "code",
        "colab": {}
      },
      "source": [
        ""
      ],
      "execution_count": 0,
      "outputs": []
    }
  ]
}